{
 "cells": [
  {
   "cell_type": "markdown",
   "metadata": {},
   "source": [
    "### 导入车辆轨迹"
   ]
  },
  {
   "cell_type": "code",
   "execution_count": 1,
   "metadata": {
    "collapsed": true
   },
   "outputs": [],
   "source": [
    "import pandas as pd\n",
    "import numpy as np\n",
    "\n",
    "from datetime import datetime\n",
    "\n",
    "from collections import Counter\n",
    "\n",
    "fpath='../比赛/轨迹数据.txt'"
   ]
  },
  {
   "cell_type": "code",
   "execution_count": 29,
   "metadata": {
    "collapsed": true
   },
   "outputs": [],
   "source": [
    "import matplotlib.pyplot as plt\n",
    "%matplotlib inline"
   ]
  },
  {
   "cell_type": "code",
   "execution_count": 2,
   "metadata": {
    "collapsed": true
   },
   "outputs": [],
   "source": [
    "df=pd.read_csv(fpath)#轨迹数据.txt 格式有问题，每个行尾多了个，号"
   ]
  },
  {
   "cell_type": "code",
   "execution_count": 3,
   "metadata": {},
   "outputs": [
    {
     "data": {
      "text/html": [
       "<div>\n",
       "<style>\n",
       "    .dataframe thead tr:only-child th {\n",
       "        text-align: right;\n",
       "    }\n",
       "\n",
       "    .dataframe thead th {\n",
       "        text-align: left;\n",
       "    }\n",
       "\n",
       "    .dataframe tbody tr th {\n",
       "        vertical-align: top;\n",
       "    }\n",
       "</style>\n",
       "<table border=\"1\" class=\"dataframe\">\n",
       "  <thead>\n",
       "    <tr style=\"text-align: right;\">\n",
       "      <th></th>\n",
       "      <th>vehicle-id</th>\n",
       "      <th>time</th>\n",
       "      <th>x-coordinate</th>\n",
       "      <th>y-coordinate</th>\n",
       "      <th>speed</th>\n",
       "      <th>category</th>\n",
       "    </tr>\n",
       "  </thead>\n",
       "  <tbody>\n",
       "    <tr>\n",
       "      <th>63</th>\n",
       "      <td>f3bc6bd1462edd25f7ae844143e8f65d</td>\n",
       "      <td>1493853530</td>\n",
       "      <td>521726.523312</td>\n",
       "      <td>55080.257718</td>\n",
       "      <td>12.8</td>\n",
       "      <td>1</td>\n",
       "    </tr>\n",
       "    <tr>\n",
       "      <th>64</th>\n",
       "      <td>f3bc6bd1462edd25f7ae844143e8f65d</td>\n",
       "      <td>1493853533</td>\n",
       "      <td>521689.796286</td>\n",
       "      <td>55057.042483</td>\n",
       "      <td>14.3</td>\n",
       "      <td>1</td>\n",
       "    </tr>\n",
       "    <tr>\n",
       "      <th>65</th>\n",
       "      <td>f3bc6bd1462edd25f7ae844143e8f65d</td>\n",
       "      <td>1493853536</td>\n",
       "      <td>521657.521151</td>\n",
       "      <td>55036.505930</td>\n",
       "      <td>12.8</td>\n",
       "      <td>1</td>\n",
       "    </tr>\n",
       "    <tr>\n",
       "      <th>66</th>\n",
       "      <td>f3bc6bd1462edd25f7ae844143e8f65d</td>\n",
       "      <td>1493853539</td>\n",
       "      <td>521623.020278</td>\n",
       "      <td>55016.862270</td>\n",
       "      <td>12.8</td>\n",
       "      <td>1</td>\n",
       "    </tr>\n",
       "    <tr>\n",
       "      <th>67</th>\n",
       "      <td>f3bc6bd1462edd25f7ae844143e8f65d</td>\n",
       "      <td>1493853542</td>\n",
       "      <td>521588.519545</td>\n",
       "      <td>54999.004397</td>\n",
       "      <td>13.1</td>\n",
       "      <td>1</td>\n",
       "    </tr>\n",
       "  </tbody>\n",
       "</table>\n",
       "</div>"
      ],
      "text/plain": [
       "                          vehicle-id        time   x-coordinate  y-coordinate  \\\n",
       "63  f3bc6bd1462edd25f7ae844143e8f65d  1493853530  521726.523312  55080.257718   \n",
       "64  f3bc6bd1462edd25f7ae844143e8f65d  1493853533  521689.796286  55057.042483   \n",
       "65  f3bc6bd1462edd25f7ae844143e8f65d  1493853536  521657.521151  55036.505930   \n",
       "66  f3bc6bd1462edd25f7ae844143e8f65d  1493853539  521623.020278  55016.862270   \n",
       "67  f3bc6bd1462edd25f7ae844143e8f65d  1493853542  521588.519545  54999.004397   \n",
       "\n",
       "    speed  category  \n",
       "63   12.8         1  \n",
       "64   14.3         1  \n",
       "65   12.8         1  \n",
       "66   12.8         1  \n",
       "67   13.1         1  "
      ]
     },
     "execution_count": 3,
     "metadata": {},
     "output_type": "execute_result"
    }
   ],
   "source": [
    "# df2=df[df['vehicle-id']=='4c0c4745067197be22182d262b44f48a']\n",
    "df2=df[df['vehicle-id']=='f3bc6bd1462edd25f7ae844143e8f65d']\n",
    "df2.head()"
   ]
  },
  {
   "cell_type": "code",
   "execution_count": 26,
   "metadata": {
    "collapsed": true
   },
   "outputs": [],
   "source": [
    "def time_to_hour(x):\n",
    "    dt=datetime.fromtimestamp(x)\n",
    "    return dt.day"
   ]
  },
  {
   "cell_type": "code",
   "execution_count": 21,
   "metadata": {
    "collapsed": true
   },
   "outputs": [],
   "source": [
    "# dt=datetime.fromtimestamp(1493853539)\n",
    "# dt.date(),dt.day"
   ]
  },
  {
   "cell_type": "code",
   "execution_count": 28,
   "metadata": {},
   "outputs": [
    {
     "data": {
      "text/plain": [
       "Counter({4: 76})"
      ]
     },
     "execution_count": 28,
     "metadata": {},
     "output_type": "execute_result"
    }
   ],
   "source": [
    "dt1=df2['time'].apply(time_to_hour)#没用\n",
    "c=Counter(list(dt1))\n",
    "c"
   ]
  },
  {
   "cell_type": "code",
   "execution_count": 6,
   "metadata": {
    "collapsed": true
   },
   "outputs": [],
   "source": [
    "x=list(df2['x-coordinate'])\n",
    "#x[:10]\n",
    "y=list(df2['y-coordinate'])\n",
    "#y[:10]"
   ]
  },
  {
   "cell_type": "code",
   "execution_count": 7,
   "metadata": {
    "collapsed": true
   },
   "outputs": [],
   "source": [
    "from config import cross_cord"
   ]
  },
  {
   "cell_type": "code",
   "execution_count": 8,
   "metadata": {},
   "outputs": [
    {
     "name": "stdout",
     "output_type": "stream",
     "text": [
      "[521677, 521580, 521520, 521452, 521433, 521411, 521400] [58109, 57466, 57059, 56668, 55855, 54822, 53998]\n"
     ]
    }
   ],
   "source": [
    "cx=[];cy=[]\n",
    "for z in range(1,8):\n",
    "#     print(z)\n",
    "    cx.append(cross_cord[str(z)]['x'])\n",
    "    cy.append(cross_cord[str(z)]['y'])\n",
    "print(cx,cy)"
   ]
  },
  {
   "cell_type": "code",
   "execution_count": 77,
   "metadata": {},
   "outputs": [
    {
     "data": {
      "text/plain": [
       "['X1', 'X2', 'X3', 'X4', 'X5', 'X6', 'X7']"
      ]
     },
     "execution_count": 77,
     "metadata": {},
     "output_type": "execute_result"
    }
   ],
   "source": [
    "labels = ['X{0}'.format(i) for i in range(1,8)]\n",
    "labels"
   ]
  },
  {
   "cell_type": "code",
   "execution_count": 79,
   "metadata": {},
   "outputs": [
    {
     "data": {
      "image/png": "[encoded data removed]",
      "text/plain": [
       "<matplotlib.figure.Figure at 0x10c5749b0>"
      ]
     },
     "metadata": {},
     "output_type": "display_data"
    }
   ],
   "source": [
    "%matplotlib inline\n",
    "fig = plt.figure(figsize = (10,10))\n",
    "plt.scatter(x,y, 200, color ='green',marker='<')\n",
    "plt.scatter(cx,cy, 500, color ='blue',marker='X')\n",
    "for label, x, y in zip(labels, cx, cy):\n",
    "    plt.annotate(\n",
    "        label,\n",
    "        xy=(x, y), xytext=(-20, 20),\n",
    "        textcoords='offset points', ha='right', va='bottom',\n",
    "        bbox=dict(boxstyle='round,pad=0.5', fc='yellow', alpha=0.5),\n",
    "        arrowprops=dict(arrowstyle='->', connectionstyle='arc3,rad=0'))\n",
    "    \n",
    "plt.show()"
   ]
  },
  {
   "cell_type": "raw",
   "metadata": {},
   "source": [
    "#动态显示轨迹图,2天,经过2个十字路口\n",
    "%matplotlib notebook\n",
    "#要切回inline模式\n",
    "fig = plt.figure(figsize = (10,10))\n",
    "# fig = plt.figure()\n",
    "ax1 = fig.add_subplot(111)\n",
    "plt.ion()\n",
    "\n",
    "fig.show()\n",
    "fig.canvas.draw()\n",
    "\n",
    "ax1.scatter(cx,cy, 500, color ='blue',marker='X')\n",
    "\n",
    "for x1,y1 in zip(x,y):\n",
    "    ax1.scatter(x1,y1, 100, color ='green',marker='<')\n",
    "#     plt.pause(0.1)#不能取消\n",
    "    fig.canvas.draw()\n",
    "\n",
    "plt.ioff()\n",
    "plt.show()"
   ]
  },
  {
   "cell_type": "code",
   "execution_count": null,
   "metadata": {
    "collapsed": true
   },
   "outputs": [],
   "source": []
  },
  {
   "cell_type": "markdown",
   "metadata": {
    "collapsed": true
   },
   "source": [
    "## 经过哪些路口"
   ]
  },
  {
   "cell_type": "code",
   "execution_count": 9,
   "metadata": {
    "collapsed": true
   },
   "outputs": [],
   "source": [
    "#阈值\n",
    "meet_distance=10#车离十字路口多远才算相遇\n",
    "meet_cross_list=[]\n",
    "distancelist=[]#所有距离"
   ]
  },
  {
   "cell_type": "code",
   "execution_count": 10,
   "metadata": {
    "collapsed": true
   },
   "outputs": [],
   "source": [
    "def dist(x1,x2,y1,y2,):\n",
    "    return ((x1 - x2) ** 2 + (y1 - y2) ** 2) ** 0.5"
   ]
  },
  {
   "cell_type": "code",
   "execution_count": 11,
   "metadata": {},
   "outputs": [],
   "source": [
    "for lon,lat in zip(x,y):\n",
    "    #到路口的距离\n",
    "    dist_list=[dist(lon,cx1,lat,cy1) for cx1,cy1 in zip(cx,cy)]\n",
    "#     dist_list=[haversine(lon,cx1,lat,cy1) for cx1,cy1 in zip(cx,cy)]\n",
    "    \n",
    "    meet_cross_list.append(dist_list.index(min(dist_list)))\n",
    "    distancelist+=(dist_list)\n",
    "#     break"
   ]
  },
  {
   "cell_type": "code",
   "execution_count": 12,
   "metadata": {},
   "outputs": [
    {
     "data": {
      "text/plain": [
       "[4195.876415632707,\n",
       " 3548.3154130926359,\n",
       " 3139.0609237602835,\n",
       " 2746.288752073744,\n",
       " 1933.0811766997174,\n",
       " 899.87494620017378,\n",
       " 75.841173664223547]"
      ]
     },
     "execution_count": 12,
     "metadata": {},
     "output_type": "execute_result"
    }
   ],
   "source": [
    "dist_list"
   ]
  },
  {
   "cell_type": "code",
   "execution_count": 94,
   "metadata": {},
   "outputs": [
    {
     "data": {
      "text/plain": [
       "75.841173664223547"
      ]
     },
     "execution_count": 94,
     "metadata": {},
     "output_type": "execute_result"
    }
   ],
   "source": [
    "min(dist_list)"
   ]
  },
  {
   "cell_type": "code",
   "execution_count": 69,
   "metadata": {},
   "outputs": [
    {
     "data": {
      "text/plain": [
       "1"
      ]
     },
     "execution_count": 69,
     "metadata": {},
     "output_type": "execute_result"
    }
   ],
   "source": [
    "dist_list.index(min(dist_list))"
   ]
  },
  {
   "cell_type": "code",
   "execution_count": 95,
   "metadata": {},
   "outputs": [
    {
     "data": {
      "text/plain": [
       "[3908.9521719172444,\n",
       " 3918.7498441239045,\n",
       " 3932.188301849947,\n",
       " 3947.3303491056727,\n",
       " 3974.0522999144541,\n",
       " 4042.718551057254,\n",
       " 4079.2421952973928,\n",
       " 4120.2217391301365,\n",
       " 4157.6394556365103,\n",
       " 4195.876415632707]"
      ]
     },
     "execution_count": 95,
     "metadata": {},
     "output_type": "execute_result"
    }
   ],
   "source": [
    "dsl=sorted(distancelist)\n",
    "dsl[-10:]"
   ]
  },
  {
   "cell_type": "code",
   "execution_count": 110,
   "metadata": {},
   "outputs": [
    {
     "data": {
      "text/plain": [
       "[0.44301073629830162,\n",
       " 12.302097542100984,\n",
       " 12.302097542100984,\n",
       " 21.705958244039877,\n",
       " 37.433455884356917,\n",
       " 41.14606334358573,\n",
       " 52.472113501610806,\n",
       " 52.472113501610806,\n",
       " 54.703749335127839,\n",
       " 64.490076960905682]"
      ]
     },
     "execution_count": 110,
     "metadata": {},
     "output_type": "execute_result"
    }
   ],
   "source": [
    "dsl[:10]"
   ]
  },
  {
   "cell_type": "code",
   "execution_count": 62,
   "metadata": {},
   "outputs": [
    {
     "data": {
      "text/plain": [
       "657662.19081313675"
      ]
     },
     "execution_count": 62,
     "metadata": {},
     "output_type": "execute_result"
    }
   ],
   "source": [
    "min(dsl)"
   ]
  },
  {
   "cell_type": "code",
   "execution_count": 63,
   "metadata": {
    "collapsed": true
   },
   "outputs": [],
   "source": [
    "from math import radians, cos, sin, asin, sqrt  \n",
    "  \n",
    "def haversine(lon1, lat1, lon2, lat2): # 经度1，纬度1，经度2，纬度2 （十进制度数）  \n",
    "    \"\"\" \n",
    "    Calculate the great circle distance between two points  \n",
    "    on the earth (specified in decimal degrees) \n",
    "    \"\"\"  \n",
    "    # 将十进制度数转化为弧度  \n",
    "    lon1, lat1, lon2, lat2 = map(radians, [lon1, lat1, lon2, lat2])  \n",
    "  \n",
    "    # haversine公式  \n",
    "    dlon = lon2 - lon1   \n",
    "    dlat = lat2 - lat1   \n",
    "    a = sin(dlat/2)**2 + cos(lat1) * cos(lat2) * sin(dlon/2)**2  \n",
    "    c = 2 * asin(sqrt(a))   \n",
    "    r = 6371 # 地球平均半径，单位为公里  \n",
    "    return c * r * 1000  "
   ]
  },
  {
   "cell_type": "code",
   "execution_count": 13,
   "metadata": {},
   "outputs": [
    {
     "data": {
      "text/plain": [
       "[(5, 51), (6, 25)]"
      ]
     },
     "execution_count": 13,
     "metadata": {},
     "output_type": "execute_result"
    }
   ],
   "source": [
    "c=Counter(meet_cross_list)\n",
    "c.most_common()#经过第6,7个路口\n",
    "#不一定\n",
    "#[(5, 48), (6, 25)],先经过第6个路口,再经过第7个路口"
   ]
  },
  {
   "cell_type": "code",
   "execution_count": 76,
   "metadata": {},
   "outputs": [
    {
     "data": {
      "text/plain": [
       "76"
      ]
     },
     "execution_count": 76,
     "metadata": {},
     "output_type": "execute_result"
    }
   ],
   "source": [
    "len(meet_cross_list)"
   ]
  },
  {
   "cell_type": "markdown",
   "metadata": {},
   "source": [
    "# 7个十字路口之间的距离"
   ]
  },
  {
   "cell_type": "code",
   "execution_count": 15,
   "metadata": {},
   "outputs": [
    {
     "data": {
      "text/plain": [
       "[(521677, 58109),\n",
       " (521580, 57466),\n",
       " (521520, 57059),\n",
       " (521452, 56668),\n",
       " (521433, 55855),\n",
       " (521411, 54822),\n",
       " (521400, 53998)]"
      ]
     },
     "execution_count": 15,
     "metadata": {},
     "output_type": "execute_result"
    }
   ],
   "source": [
    "cr=[(a,b)  for a,b in zip(cx,cy)]\n",
    "cr"
   ]
  },
  {
   "cell_type": "code",
   "execution_count": 16,
   "metadata": {},
   "outputs": [
    {
     "data": {
      "text/plain": [
       "([650.275326304174,\n",
       "  411.3988332506547,\n",
       "  396.86899601757756,\n",
       "  813.2219869137823,\n",
       "  1033.234242560708,\n",
       "  824.0734190592486],\n",
       " 396.86899601757756)"
      ]
     },
     "execution_count": 16,
     "metadata": {},
     "output_type": "execute_result"
    }
   ],
   "source": [
    "cross_distence=[]\n",
    "for (a,b),(c,d) in zip(cr[:-1],cr[1:]):\n",
    "    dst=dist(a,c,b,d)\n",
    "#     print(dst)\n",
    "    cross_distence.append(dst)\n",
    "cross_distence  ,min(cross_distence)  "
   ]
  },
  {
   "cell_type": "code",
   "execution_count": 18,
   "metadata": {},
   "outputs": [
    {
     "data": {
      "text/plain": [
       "386.86899601757756"
      ]
     },
     "execution_count": 18,
     "metadata": {},
     "output_type": "execute_result"
    }
   ],
   "source": [
    "min_distence=min(cross_distence)-10\n",
    "min_distence#386.86899601757756"
   ]
  },
  {
   "cell_type": "code",
   "execution_count": 20,
   "metadata": {},
   "outputs": [
    {
     "data": {
      "text/plain": [
       "[4195.876415632707,\n",
       " 3548.3154130926359,\n",
       " 3139.0609237602835,\n",
       " 2746.288752073744,\n",
       " 1933.0811766997174,\n",
       " 899.87494620017378,\n",
       " 75.841173664223547]"
      ]
     },
     "execution_count": 20,
     "metadata": {},
     "output_type": "execute_result"
    }
   ],
   "source": [
    "dist_list=[]\n",
    "meet_cross_list=[]\n",
    "for lon,lat in zip(x,y):\n",
    "    #到路口的距离\n",
    "    dist_list=[dist(lon,cx1,lat,cy1) for cx1,cy1 in zip(cx,cy)]\n",
    "#     dist_list=[haversine(lon,cx1,lat,cy1) for cx1,cy1 in zip(cx,cy)]\n",
    "#     dist_list=[di<min_distence for di in dist_list ]\n",
    "    for i,di in enumerate(dist_list ):\n",
    "        if di<min_distence :\n",
    "            meet_cross_list.append(i)\n",
    "    \n",
    "#     meet_cross_list.append(dist_list.index(True))\n",
    "#     distancelist+=(dist_list)\n",
    "#     break\n",
    "dist_list    "
   ]
  },
  {
   "cell_type": "code",
   "execution_count": 21,
   "metadata": {},
   "outputs": [
    {
     "name": "stdout",
     "output_type": "stream",
     "text": [
      "[5, 5, 5, 5, 5, 5, 5, 5, 5, 5, 5, 5, 5, 5, 5, 5, 5, 5, 5, 5, 5, 5, 5, 5, 5, 5, 5, 5, 5, 5, 5, 5, 5, 5, 5, 5, 5, 5, 5, 5, 5, 5, 5, 5, 5, 5, 5, 5, 6, 6, 6, 6, 6, 6, 6, 6, 6, 6, 6, 6, 6, 6, 6, 6, 6, 6, 6, 6, 6, 6, 6, 6, 6]\n"
     ]
    }
   ],
   "source": [
    "print(meet_cross_list)"
   ]
  },
  {
   "cell_type": "code",
   "execution_count": 22,
   "metadata": {},
   "outputs": [
    {
     "data": {
      "text/plain": [
       "[5, 6]"
      ]
     },
     "execution_count": 22,
     "metadata": {},
     "output_type": "execute_result"
    }
   ],
   "source": [
    "#经过路口的先后顺序\n",
    "passed_cross_order=[]\n",
    "for cro in meet_cross_list:\n",
    "    if cro not in passed_cross_order:\n",
    "        passed_cross_order.append(cro)\n",
    "passed_cross_order        "
   ]
  },
  {
   "cell_type": "code",
   "execution_count": 120,
   "metadata": {
    "collapsed": true
   },
   "outputs": [],
   "source": [
    "#方向?\n",
    "#东往西\n",
    "# 用前3个坐标减去后3个坐标"
   ]
  },
  {
   "cell_type": "code",
   "execution_count": null,
   "metadata": {
    "collapsed": true
   },
   "outputs": [],
   "source": []
  }
 ],
 "metadata": {
  "kernelspec": {
   "display_name": "Python 3",
   "language": "python",
   "name": "python3"
  },
  "language_info": {
   "codemirror_mode": {
    "name": "ipython",
    "version": 3
   },
   "file_extension": ".py",
   "mimetype": "text/x-python",
   "name": "python",
   "nbconvert_exporter": "python",
   "pygments_lexer": "ipython3",
   "version": "3.6.1"
  }
 },
 "nbformat": 4,
 "nbformat_minor": 2
}
